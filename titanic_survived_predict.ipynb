{
 "cells": [
  {
   "cell_type": "markdown",
   "metadata": {},
   "source": [
    "# https://www.kaggle.com/competitions/titanic\n",
    "Построение моделей прогнозирования категории пассажиров Титаника (выживший/погибший)"
   ]
  },
  {
   "cell_type": "code",
   "execution_count": 1,
   "metadata": {
    "execution": {
     "iopub.execute_input": "2022-09-20T10:57:48.359110Z",
     "iopub.status.busy": "2022-09-20T10:57:48.358730Z",
     "iopub.status.idle": "2022-09-20T10:57:48.370191Z",
     "shell.execute_reply": "2022-09-20T10:57:48.369154Z",
     "shell.execute_reply.started": "2022-09-20T10:57:48.359085Z"
    }
   },
   "outputs": [
    {
     "data": {
      "text/plain": [
       "<Figure size 900x700 with 0 Axes>"
      ]
     },
     "execution_count": 1,
     "metadata": {},
     "output_type": "execute_result"
    },
    {
     "data": {
      "text/plain": [
       "<Figure size 900x700 with 0 Axes>"
      ]
     },
     "metadata": {},
     "output_type": "display_data"
    }
   ],
   "source": [
    "import numpy as np \n",
    "import pandas as pd \n",
    "import seaborn as sns\n",
    "import matplotlib.pyplot as plt\n",
    "import sklearn\n",
    "from sklearn.model_selection import GridSearchCV\n",
    "from sklearn.ensemble import RandomForestClassifier\n",
    "from sklearn.model_selection import train_test_split\n",
    "from sklearn.preprocessing import LabelEncoder\n",
    "\n",
    "plt.figure(figsize=(9,7))"
   ]
  },
  {
   "cell_type": "code",
   "execution_count": 2,
   "metadata": {
    "execution": {
     "iopub.execute_input": "2022-09-20T10:56:54.470288Z",
     "iopub.status.busy": "2022-09-20T10:56:54.469930Z",
     "iopub.status.idle": "2022-09-20T10:56:54.505566Z",
     "shell.execute_reply": "2022-09-20T10:56:54.504298Z",
     "shell.execute_reply.started": "2022-09-20T10:56:54.470263Z"
    },
    "scrolled": true
   },
   "outputs": [
    {
     "data": {
      "text/html": [
       "<div>\n",
       "<style scoped>\n",
       "    .dataframe tbody tr th:only-of-type {\n",
       "        vertical-align: middle;\n",
       "    }\n",
       "\n",
       "    .dataframe tbody tr th {\n",
       "        vertical-align: top;\n",
       "    }\n",
       "\n",
       "    .dataframe thead th {\n",
       "        text-align: right;\n",
       "    }\n",
       "</style>\n",
       "<table border=\"1\" class=\"dataframe\">\n",
       "  <thead>\n",
       "    <tr style=\"text-align: right;\">\n",
       "      <th></th>\n",
       "      <th>PassengerId</th>\n",
       "      <th>Survived</th>\n",
       "      <th>Pclass</th>\n",
       "      <th>Name</th>\n",
       "      <th>Sex</th>\n",
       "      <th>Age</th>\n",
       "      <th>SibSp</th>\n",
       "      <th>Parch</th>\n",
       "      <th>Ticket</th>\n",
       "      <th>Fare</th>\n",
       "      <th>Cabin</th>\n",
       "      <th>Embarked</th>\n",
       "    </tr>\n",
       "  </thead>\n",
       "  <tbody>\n",
       "    <tr>\n",
       "      <th>0</th>\n",
       "      <td>1</td>\n",
       "      <td>0</td>\n",
       "      <td>3</td>\n",
       "      <td>Braund, Mr. Owen Harris</td>\n",
       "      <td>male</td>\n",
       "      <td>22.0</td>\n",
       "      <td>1</td>\n",
       "      <td>0</td>\n",
       "      <td>A/5 21171</td>\n",
       "      <td>7.2500</td>\n",
       "      <td>NaN</td>\n",
       "      <td>S</td>\n",
       "    </tr>\n",
       "    <tr>\n",
       "      <th>1</th>\n",
       "      <td>2</td>\n",
       "      <td>1</td>\n",
       "      <td>1</td>\n",
       "      <td>Cumings, Mrs. John Bradley (Florence Briggs Th...</td>\n",
       "      <td>female</td>\n",
       "      <td>38.0</td>\n",
       "      <td>1</td>\n",
       "      <td>0</td>\n",
       "      <td>PC 17599</td>\n",
       "      <td>71.2833</td>\n",
       "      <td>C85</td>\n",
       "      <td>C</td>\n",
       "    </tr>\n",
       "    <tr>\n",
       "      <th>2</th>\n",
       "      <td>3</td>\n",
       "      <td>1</td>\n",
       "      <td>3</td>\n",
       "      <td>Heikkinen, Miss. Laina</td>\n",
       "      <td>female</td>\n",
       "      <td>26.0</td>\n",
       "      <td>0</td>\n",
       "      <td>0</td>\n",
       "      <td>STON/O2. 3101282</td>\n",
       "      <td>7.9250</td>\n",
       "      <td>NaN</td>\n",
       "      <td>S</td>\n",
       "    </tr>\n",
       "    <tr>\n",
       "      <th>3</th>\n",
       "      <td>4</td>\n",
       "      <td>1</td>\n",
       "      <td>1</td>\n",
       "      <td>Futrelle, Mrs. Jacques Heath (Lily May Peel)</td>\n",
       "      <td>female</td>\n",
       "      <td>35.0</td>\n",
       "      <td>1</td>\n",
       "      <td>0</td>\n",
       "      <td>113803</td>\n",
       "      <td>53.1000</td>\n",
       "      <td>C123</td>\n",
       "      <td>S</td>\n",
       "    </tr>\n",
       "    <tr>\n",
       "      <th>4</th>\n",
       "      <td>5</td>\n",
       "      <td>0</td>\n",
       "      <td>3</td>\n",
       "      <td>Allen, Mr. William Henry</td>\n",
       "      <td>male</td>\n",
       "      <td>35.0</td>\n",
       "      <td>0</td>\n",
       "      <td>0</td>\n",
       "      <td>373450</td>\n",
       "      <td>8.0500</td>\n",
       "      <td>NaN</td>\n",
       "      <td>S</td>\n",
       "    </tr>\n",
       "    <tr>\n",
       "      <th>...</th>\n",
       "      <td>...</td>\n",
       "      <td>...</td>\n",
       "      <td>...</td>\n",
       "      <td>...</td>\n",
       "      <td>...</td>\n",
       "      <td>...</td>\n",
       "      <td>...</td>\n",
       "      <td>...</td>\n",
       "      <td>...</td>\n",
       "      <td>...</td>\n",
       "      <td>...</td>\n",
       "      <td>...</td>\n",
       "    </tr>\n",
       "    <tr>\n",
       "      <th>886</th>\n",
       "      <td>887</td>\n",
       "      <td>0</td>\n",
       "      <td>2</td>\n",
       "      <td>Montvila, Rev. Juozas</td>\n",
       "      <td>male</td>\n",
       "      <td>27.0</td>\n",
       "      <td>0</td>\n",
       "      <td>0</td>\n",
       "      <td>211536</td>\n",
       "      <td>13.0000</td>\n",
       "      <td>NaN</td>\n",
       "      <td>S</td>\n",
       "    </tr>\n",
       "    <tr>\n",
       "      <th>887</th>\n",
       "      <td>888</td>\n",
       "      <td>1</td>\n",
       "      <td>1</td>\n",
       "      <td>Graham, Miss. Margaret Edith</td>\n",
       "      <td>female</td>\n",
       "      <td>19.0</td>\n",
       "      <td>0</td>\n",
       "      <td>0</td>\n",
       "      <td>112053</td>\n",
       "      <td>30.0000</td>\n",
       "      <td>B42</td>\n",
       "      <td>S</td>\n",
       "    </tr>\n",
       "    <tr>\n",
       "      <th>888</th>\n",
       "      <td>889</td>\n",
       "      <td>0</td>\n",
       "      <td>3</td>\n",
       "      <td>Johnston, Miss. Catherine Helen \"Carrie\"</td>\n",
       "      <td>female</td>\n",
       "      <td>NaN</td>\n",
       "      <td>1</td>\n",
       "      <td>2</td>\n",
       "      <td>W./C. 6607</td>\n",
       "      <td>23.4500</td>\n",
       "      <td>NaN</td>\n",
       "      <td>S</td>\n",
       "    </tr>\n",
       "    <tr>\n",
       "      <th>889</th>\n",
       "      <td>890</td>\n",
       "      <td>1</td>\n",
       "      <td>1</td>\n",
       "      <td>Behr, Mr. Karl Howell</td>\n",
       "      <td>male</td>\n",
       "      <td>26.0</td>\n",
       "      <td>0</td>\n",
       "      <td>0</td>\n",
       "      <td>111369</td>\n",
       "      <td>30.0000</td>\n",
       "      <td>C148</td>\n",
       "      <td>C</td>\n",
       "    </tr>\n",
       "    <tr>\n",
       "      <th>890</th>\n",
       "      <td>891</td>\n",
       "      <td>0</td>\n",
       "      <td>3</td>\n",
       "      <td>Dooley, Mr. Patrick</td>\n",
       "      <td>male</td>\n",
       "      <td>32.0</td>\n",
       "      <td>0</td>\n",
       "      <td>0</td>\n",
       "      <td>370376</td>\n",
       "      <td>7.7500</td>\n",
       "      <td>NaN</td>\n",
       "      <td>Q</td>\n",
       "    </tr>\n",
       "  </tbody>\n",
       "</table>\n",
       "<p>891 rows × 12 columns</p>\n",
       "</div>"
      ],
      "text/plain": [
       "     PassengerId  Survived  Pclass  \\\n",
       "0              1         0       3   \n",
       "1              2         1       1   \n",
       "2              3         1       3   \n",
       "3              4         1       1   \n",
       "4              5         0       3   \n",
       "..           ...       ...     ...   \n",
       "886          887         0       2   \n",
       "887          888         1       1   \n",
       "888          889         0       3   \n",
       "889          890         1       1   \n",
       "890          891         0       3   \n",
       "\n",
       "                                                  Name     Sex   Age  SibSp  \\\n",
       "0                              Braund, Mr. Owen Harris    male  22.0      1   \n",
       "1    Cumings, Mrs. John Bradley (Florence Briggs Th...  female  38.0      1   \n",
       "2                               Heikkinen, Miss. Laina  female  26.0      0   \n",
       "3         Futrelle, Mrs. Jacques Heath (Lily May Peel)  female  35.0      1   \n",
       "4                             Allen, Mr. William Henry    male  35.0      0   \n",
       "..                                                 ...     ...   ...    ...   \n",
       "886                              Montvila, Rev. Juozas    male  27.0      0   \n",
       "887                       Graham, Miss. Margaret Edith  female  19.0      0   \n",
       "888           Johnston, Miss. Catherine Helen \"Carrie\"  female   NaN      1   \n",
       "889                              Behr, Mr. Karl Howell    male  26.0      0   \n",
       "890                                Dooley, Mr. Patrick    male  32.0      0   \n",
       "\n",
       "     Parch            Ticket     Fare Cabin Embarked  \n",
       "0        0         A/5 21171   7.2500   NaN        S  \n",
       "1        0          PC 17599  71.2833   C85        C  \n",
       "2        0  STON/O2. 3101282   7.9250   NaN        S  \n",
       "3        0            113803  53.1000  C123        S  \n",
       "4        0            373450   8.0500   NaN        S  \n",
       "..     ...               ...      ...   ...      ...  \n",
       "886      0            211536  13.0000   NaN        S  \n",
       "887      0            112053  30.0000   B42        S  \n",
       "888      2        W./C. 6607  23.4500   NaN        S  \n",
       "889      0            111369  30.0000  C148        C  \n",
       "890      0            370376   7.7500   NaN        Q  \n",
       "\n",
       "[891 rows x 12 columns]"
      ]
     },
     "execution_count": 2,
     "metadata": {},
     "output_type": "execute_result"
    }
   ],
   "source": [
    "titanic_df = pd.read_csv('train.csv')\n",
    "X_real = pd.read_csv('test.csv')\n",
    "Y_real = pd.read_csv('gender_submission.csv')\n",
    "titanic_df"
   ]
  },
  {
   "cell_type": "markdown",
   "metadata": {},
   "source": [
    "## 1. Предобработка данных и рабочие гипотезы"
   ]
  },
  {
   "cell_type": "markdown",
   "metadata": {},
   "source": [
    "Гипотезы:\n",
    "Вероятность спастись зависит от:\n",
    "1. Возраста (Age);\n",
    "2. Пола (Sex);\n",
    "3. Класса каюты (Pclass);\n",
    "4. Кол-ва родственников первой степени (Parch);\n",
    "5. Кол-ва родственников второй степени (SibSp);\n",
    "6. Номера каюты (Cabin);\n",
    "7. Цены билета (Fare);\n",
    "8. Места (порт) посадки на борт (Embarked).\n",
    "\n"
   ]
  },
  {
   "cell_type": "code",
   "execution_count": 3,
   "metadata": {},
   "outputs": [
    {
     "data": {
      "text/plain": [
       "0.3838383838383838"
      ]
     },
     "execution_count": 3,
     "metadata": {},
     "output_type": "execute_result"
    }
   ],
   "source": [
    "titanic_df.Survived.mean()"
   ]
  },
  {
   "cell_type": "markdown",
   "metadata": {},
   "source": [
    "Доля выживших составляет 38 % , классы умеренно сбалансированы. Среди признаков есть категориальные переменные. Также необходимо проверить корреляцию признаков.\n"
   ]
  },
  {
   "cell_type": "markdown",
   "metadata": {},
   "source": [
    "### Возраст (Age):"
   ]
  },
  {
   "cell_type": "code",
   "execution_count": 4,
   "metadata": {},
   "outputs": [
    {
     "data": {
      "text/plain": [
       "0.19865319865319866"
      ]
     },
     "execution_count": 4,
     "metadata": {},
     "output_type": "execute_result"
    }
   ],
   "source": [
    "titanic_df.Age.isna().mean()"
   ]
  },
  {
   "cell_type": "markdown",
   "metadata": {},
   "source": [
    "В колонке Age пропущено 20 % значений. Заменим их на средние знаечния по колонке. Разобъем пассажиров по группам для наглядности. Сделаем сводную таблицу и гистограмму. "
   ]
  },
  {
   "cell_type": "code",
   "execution_count": 5,
   "metadata": {},
   "outputs": [
    {
     "data": {
      "text/plain": [
       "<AxesSubplot:xlabel='%'>"
      ]
     },
     "execution_count": 5,
     "metadata": {},
     "output_type": "execute_result"
    },
    {
     "data": {
      "image/png": "[encoded data removed]",
      "text/plain": [
       "<Figure size 800x500 with 1 Axes>"
      ]
     },
     "metadata": {},
     "output_type": "display_data"
    }
   ],
   "source": [
    "titanic_df.fillna({'Age': titanic_df.Age.mean().round(0)}, inplace=True)\n",
    "titanic_df['Age_group'] = pd.qcut(titanic_df.Age, 8, duplicates='drop')\n",
    "titanic_df.pivot_table(values='Survived', columns='Age_group', aggfunc=\"mean\", \n",
    "                dropna=False, fill_value=0).plot(kind='bar', xlabel='%', figsize=(8,5), rot=360)"
   ]
  },
  {
   "cell_type": "markdown",
   "metadata": {},
   "source": [
    "Из диаграммы видно, что имеется некоторая зависимость между процентом выживших в разных возратсных группах. Особенно между группой пассажиров до 16 лет включительно и другими."
   ]
  },
  {
   "cell_type": "markdown",
   "metadata": {},
   "source": [
    "### Пол (Sex):"
   ]
  },
  {
   "cell_type": "code",
   "execution_count": 6,
   "metadata": {},
   "outputs": [
    {
     "data": {
      "text/plain": [
       "0.0"
      ]
     },
     "execution_count": 6,
     "metadata": {},
     "output_type": "execute_result"
    }
   ],
   "source": [
    "titanic_df.Sex.isna().mean()"
   ]
  },
  {
   "cell_type": "code",
   "execution_count": 7,
   "metadata": {
    "execution": {
     "iopub.execute_input": "2022-09-20T06:25:54.684198Z",
     "iopub.status.busy": "2022-09-20T06:25:54.683119Z",
     "iopub.status.idle": "2022-09-20T06:25:54.855256Z",
     "shell.execute_reply": "2022-09-20T06:25:54.854396Z",
     "shell.execute_reply.started": "2022-09-20T06:25:54.684123Z"
    }
   },
   "outputs": [
    {
     "data": {
      "text/plain": [
       "<AxesSubplot:xlabel='%'>"
      ]
     },
     "execution_count": 7,
     "metadata": {},
     "output_type": "execute_result"
    },
    {
     "data": {
      "image/png": "[encoded data removed]",
      "text/plain": [
       "<Figure size 800x500 with 1 Axes>"
      ]
     },
     "metadata": {},
     "output_type": "display_data"
    }
   ],
   "source": [
    "titanic_df.pivot_table(values='Survived', columns='Sex', aggfunc=\"mean\", \n",
    "                dropna=False, fill_value=0).plot(kind='bar', xlabel='%', figsize=(8,5), rot=360)"
   ]
  },
  {
   "cell_type": "markdown",
   "metadata": {},
   "source": [
    "На гистограмме видна отчетливая зависимость между шансом спастись и полом пассажира."
   ]
  },
  {
   "cell_type": "markdown",
   "metadata": {},
   "source": [
    "Закодируем категориальные переменные male/female с помощью LabelEncoder()"
   ]
  },
  {
   "cell_type": "code",
   "execution_count": 8,
   "metadata": {},
   "outputs": [],
   "source": [
    "le = LabelEncoder()"
   ]
  },
  {
   "cell_type": "code",
   "execution_count": 9,
   "metadata": {},
   "outputs": [
    {
     "data": {
      "text/plain": [
       "LabelEncoder()"
      ]
     },
     "execution_count": 9,
     "metadata": {},
     "output_type": "execute_result"
    }
   ],
   "source": [
    "le.fit(titanic_df.Sex)"
   ]
  },
  {
   "cell_type": "code",
   "execution_count": 10,
   "metadata": {},
   "outputs": [
    {
     "data": {
      "text/plain": [
       "array(['female', 'male'], dtype=object)"
      ]
     },
     "execution_count": 10,
     "metadata": {},
     "output_type": "execute_result"
    }
   ],
   "source": [
    "le.classes_"
   ]
  },
  {
   "cell_type": "code",
   "execution_count": 11,
   "metadata": {},
   "outputs": [],
   "source": [
    "titanic_df['Sex'] = le.transform(titanic_df.Sex)"
   ]
  },
  {
   "cell_type": "code",
   "execution_count": 12,
   "metadata": {},
   "outputs": [
    {
     "data": {
      "text/plain": [
       "0      1\n",
       "1      0\n",
       "2      0\n",
       "3      0\n",
       "4      1\n",
       "      ..\n",
       "886    1\n",
       "887    0\n",
       "888    0\n",
       "889    1\n",
       "890    1\n",
       "Name: Sex, Length: 891, dtype: int32"
      ]
     },
     "execution_count": 12,
     "metadata": {},
     "output_type": "execute_result"
    }
   ],
   "source": [
    "titanic_df.Sex"
   ]
  },
  {
   "cell_type": "markdown",
   "metadata": {},
   "source": [
    "### Класс каюты (Pclass):"
   ]
  },
  {
   "cell_type": "code",
   "execution_count": 13,
   "metadata": {},
   "outputs": [
    {
     "data": {
      "text/plain": [
       "0.0"
      ]
     },
     "execution_count": 13,
     "metadata": {},
     "output_type": "execute_result"
    }
   ],
   "source": [
    "titanic_df.Pclass.isna().mean()"
   ]
  },
  {
   "cell_type": "code",
   "execution_count": 14,
   "metadata": {},
   "outputs": [
    {
     "data": {
      "text/plain": [
       "3    491\n",
       "1    216\n",
       "2    184\n",
       "Name: Pclass, dtype: int64"
      ]
     },
     "execution_count": 14,
     "metadata": {},
     "output_type": "execute_result"
    }
   ],
   "source": [
    "titanic_df.Pclass.value_counts()"
   ]
  },
  {
   "cell_type": "code",
   "execution_count": 15,
   "metadata": {
    "execution": {
     "iopub.execute_input": "2022-09-20T05:55:06.592451Z",
     "iopub.status.busy": "2022-09-20T05:55:06.592105Z",
     "iopub.status.idle": "2022-09-20T05:55:06.762550Z",
     "shell.execute_reply": "2022-09-20T05:55:06.761569Z",
     "shell.execute_reply.started": "2022-09-20T05:55:06.592426Z"
    }
   },
   "outputs": [
    {
     "data": {
      "text/plain": [
       "<AxesSubplot:xlabel='%'>"
      ]
     },
     "execution_count": 15,
     "metadata": {},
     "output_type": "execute_result"
    },
    {
     "data": {
      "image/png": "[encoded data removed]",
      "text/plain": [
       "<Figure size 800x500 with 1 Axes>"
      ]
     },
     "metadata": {},
     "output_type": "display_data"
    }
   ],
   "source": [
    "titanic_df.pivot_table(values='Survived', columns='Pclass', aggfunc=\"mean\", \n",
    "                       dropna=False, fill_value=0).plot(kind='bar', figsize=(8,5), xlabel='%', rot=360)"
   ]
  },
  {
   "cell_type": "markdown",
   "metadata": {},
   "source": [
    "Имеется троекратная разница между 1 и 3 классом кают и процентом выживших в классе."
   ]
  },
  {
   "cell_type": "markdown",
   "metadata": {},
   "source": [
    "### Номер каюты (Cabin):"
   ]
  },
  {
   "cell_type": "code",
   "execution_count": 16,
   "metadata": {},
   "outputs": [
    {
     "data": {
      "text/plain": [
       "0.7710437710437711"
      ]
     },
     "execution_count": 16,
     "metadata": {},
     "output_type": "execute_result"
    }
   ],
   "source": [
    "titanic_df.Cabin.isna().mean()"
   ]
  },
  {
   "cell_type": "markdown",
   "metadata": {},
   "source": [
    "Данный признак, возможно, следует исключить из модел ввиду большого процент неизвестных значений."
   ]
  },
  {
   "cell_type": "markdown",
   "metadata": {},
   "source": [
    "Пометим неизвестные значения как 'Unknown'. А также сгруппируем каюты по секциям, в которых они находились - первая буква в названии каюты."
   ]
  },
  {
   "cell_type": "code",
   "execution_count": 17,
   "metadata": {
    "execution": {
     "iopub.execute_input": "2022-09-20T08:16:43.305532Z",
     "iopub.status.busy": "2022-09-20T08:16:43.305223Z",
     "iopub.status.idle": "2022-09-20T08:16:43.515993Z",
     "shell.execute_reply": "2022-09-20T08:16:43.514852Z",
     "shell.execute_reply.started": "2022-09-20T08:16:43.305508Z"
    }
   },
   "outputs": [
    {
     "data": {
      "text/plain": [
       "<AxesSubplot:xlabel='%'>"
      ]
     },
     "execution_count": 17,
     "metadata": {},
     "output_type": "execute_result"
    },
    {
     "data": {
      "image/png": "[encoded data removed]",
      "text/plain": [
       "<Figure size 800x500 with 1 Axes>"
      ]
     },
     "metadata": {},
     "output_type": "display_data"
    }
   ],
   "source": [
    "titanic_df = titanic_df.fillna({'Cabin': 'Unknown'})\n",
    "titanic_df['Cabin_'] = titanic_df.Cabin.map(lambda x: x[0])\n",
    "titanic_df.pivot_table(values='Survived', columns='Cabin_', aggfunc=\"mean\", \n",
    "                dropna=False, fill_value=0).plot(kind='bar', figsize=(8,5), xlabel='%', rot=360)"
   ]
  },
  {
   "cell_type": "markdown",
   "metadata": {},
   "source": [
    "Секция с каютами является значительным фактором выживания. Однако большинство наблюдений находятся в группе Unknown. Поэтому этот признак следует рассматривать как вторичный или исключить в случае корреляции с другими признаками. Закодируем колонку Cabin_."
   ]
  },
  {
   "cell_type": "code",
   "execution_count": 18,
   "metadata": {},
   "outputs": [],
   "source": [
    "dic_cabin_ = {key:value for key, value in zip(titanic_df.Cabin_.unique(), range(len(titanic_df.Cabin_.unique()) ))}\n",
    "titanic_df.replace({'Cabin_': dic_cabin_}, inplace=True)"
   ]
  },
  {
   "cell_type": "code",
   "execution_count": 19,
   "metadata": {},
   "outputs": [
    {
     "data": {
      "text/plain": [
       "0    687\n",
       "1     59\n",
       "6     47\n",
       "4     33\n",
       "2     32\n",
       "5     15\n",
       "7     13\n",
       "3      4\n",
       "8      1\n",
       "Name: Cabin_, dtype: int64"
      ]
     },
     "execution_count": 19,
     "metadata": {},
     "output_type": "execute_result"
    }
   ],
   "source": [
    "titanic_df.Cabin_.value_counts()"
   ]
  },
  {
   "cell_type": "markdown",
   "metadata": {},
   "source": [
    "### Кол-во родственников первой степени (Parch)"
   ]
  },
  {
   "cell_type": "code",
   "execution_count": 20,
   "metadata": {},
   "outputs": [
    {
     "data": {
      "text/plain": [
       "0.0"
      ]
     },
     "execution_count": 20,
     "metadata": {},
     "output_type": "execute_result"
    }
   ],
   "source": [
    "titanic_df.Parch.isna().mean()"
   ]
  },
  {
   "cell_type": "code",
   "execution_count": 21,
   "metadata": {},
   "outputs": [
    {
     "data": {
      "text/plain": [
       "0    678\n",
       "1    118\n",
       "2     80\n",
       "5      5\n",
       "3      5\n",
       "4      4\n",
       "6      1\n",
       "Name: Parch, dtype: int64"
      ]
     },
     "execution_count": 21,
     "metadata": {},
     "output_type": "execute_result"
    }
   ],
   "source": [
    "titanic_df.Parch.value_counts()"
   ]
  },
  {
   "cell_type": "markdown",
   "metadata": {},
   "source": [
    "По данному признаку имеются выбросы. Лишь 15 человек имело более 2 близких родственников. Эти наблюдения можно удалить, или сгруппировать все значения колонки в группы: нет родственников, 1, более 1."
   ]
  },
  {
   "cell_type": "code",
   "execution_count": 22,
   "metadata": {
    "execution": {
     "iopub.execute_input": "2022-09-20T07:35:54.267070Z",
     "iopub.status.busy": "2022-09-20T07:35:54.266707Z",
     "iopub.status.idle": "2022-09-20T07:35:54.442374Z",
     "shell.execute_reply": "2022-09-20T07:35:54.441447Z",
     "shell.execute_reply.started": "2022-09-20T07:35:54.267044Z"
    }
   },
   "outputs": [
    {
     "data": {
      "text/plain": [
       "<AxesSubplot:xlabel='%'>"
      ]
     },
     "execution_count": 22,
     "metadata": {},
     "output_type": "execute_result"
    },
    {
     "data": {
      "image/png": "[encoded data removed]",
      "text/plain": [
       "<Figure size 800x500 with 1 Axes>"
      ]
     },
     "metadata": {},
     "output_type": "display_data"
    }
   ],
   "source": [
    "titanic_df.groupby('Parch').agg({'Survived':['count','mean']})\n",
    "titanic_df['Parch_group'] = titanic_df.Parch.map(lambda x: 1 if x == 1 else (2 if x > 1 else 0))\n",
    "titanic_df.groupby('Parch_group').agg({'Survived':['count','mean']})\n",
    "titanic_df.pivot_table(values='Survived', columns='Parch_group', aggfunc=\"mean\", \n",
    "                       dropna=False, fill_value=0).plot(kind='bar', xlabel='%', figsize=(8,5), rot=360)"
   ]
  },
  {
   "cell_type": "markdown",
   "metadata": {},
   "source": [
    "Наибольший шанс выжить имели пассажиры с одним близким родственником."
   ]
  },
  {
   "cell_type": "markdown",
   "metadata": {},
   "source": [
    "### Кол-во родственников второй степени (Sibsp)"
   ]
  },
  {
   "cell_type": "code",
   "execution_count": 23,
   "metadata": {},
   "outputs": [
    {
     "data": {
      "text/plain": [
       "0.0"
      ]
     },
     "execution_count": 23,
     "metadata": {},
     "output_type": "execute_result"
    }
   ],
   "source": [
    "titanic_df.SibSp.isna().mean()"
   ]
  },
  {
   "cell_type": "code",
   "execution_count": 24,
   "metadata": {},
   "outputs": [
    {
     "data": {
      "text/plain": [
       "0    608\n",
       "1    209\n",
       "2     28\n",
       "4     18\n",
       "3     16\n",
       "8      7\n",
       "5      5\n",
       "Name: SibSp, dtype: int64"
      ]
     },
     "execution_count": 24,
     "metadata": {},
     "output_type": "execute_result"
    }
   ],
   "source": [
    "titanic_df.SibSp.value_counts()"
   ]
  },
  {
   "cell_type": "markdown",
   "metadata": {},
   "source": [
    "По данному признаку также имеются выбросы. Лишь 12 человек имело более 4 близких родственников. Эти наблюдения можно удалить, или сгруппировать все значения колонки в группы: нет родственников, 1, более 1."
   ]
  },
  {
   "cell_type": "code",
   "execution_count": 25,
   "metadata": {
    "execution": {
     "iopub.execute_input": "2022-09-20T07:40:04.875065Z",
     "iopub.status.busy": "2022-09-20T07:40:04.874730Z",
     "iopub.status.idle": "2022-09-20T07:40:05.053321Z",
     "shell.execute_reply": "2022-09-20T07:40:05.052081Z",
     "shell.execute_reply.started": "2022-09-20T07:40:04.875030Z"
    },
    "scrolled": false
   },
   "outputs": [
    {
     "data": {
      "text/plain": [
       "<AxesSubplot:xlabel='%'>"
      ]
     },
     "execution_count": 25,
     "metadata": {},
     "output_type": "execute_result"
    },
    {
     "data": {
      "image/png": "[encoded data removed]",
      "text/plain": [
       "<Figure size 800x500 with 1 Axes>"
      ]
     },
     "metadata": {},
     "output_type": "display_data"
    }
   ],
   "source": [
    "titanic_df.groupby('SibSp').agg({'Survived': ['count','mean']})\n",
    "titanic_df['SibSp_group'] = titanic_df.SibSp.map(lambda x: 1 if x == 1 else (2 if x > 1 else 0))\n",
    "titanic_df.pivot_table(values='Survived', columns='SibSp_group', aggfunc=\"mean\", \n",
    "                       dropna=False, fill_value=0).plot(kind='bar', xlabel='%', figsize=(8,5), rot=360)"
   ]
  },
  {
   "cell_type": "markdown",
   "metadata": {},
   "source": [
    "Наибольший шанс выжить имели пассажиры с одним родственником второй степени родства."
   ]
  },
  {
   "cell_type": "markdown",
   "metadata": {},
   "source": [
    "### Цена билета (Fare):"
   ]
  },
  {
   "cell_type": "code",
   "execution_count": 26,
   "metadata": {},
   "outputs": [
    {
     "data": {
      "text/plain": [
       "0.0"
      ]
     },
     "execution_count": 26,
     "metadata": {},
     "output_type": "execute_result"
    }
   ],
   "source": [
    "titanic_df.Fare.isna().mean()"
   ]
  },
  {
   "cell_type": "code",
   "execution_count": 27,
   "metadata": {},
   "outputs": [
    {
     "data": {
      "text/plain": [
       "count    891.000000\n",
       "mean      32.204208\n",
       "std       49.693429\n",
       "min        0.000000\n",
       "25%        7.910400\n",
       "50%       14.454200\n",
       "75%       31.000000\n",
       "max      512.329200\n",
       "Name: Fare, dtype: float64"
      ]
     },
     "execution_count": 27,
     "metadata": {},
     "output_type": "execute_result"
    }
   ],
   "source": [
    "titanic_df.Fare.describe()"
   ]
  },
  {
   "cell_type": "markdown",
   "metadata": {},
   "source": [
    "По колонке Fare имеется выброс. При максимальной цене 512 ед. процентиль 75 находится на уровне 31 ед."
   ]
  },
  {
   "cell_type": "code",
   "execution_count": 28,
   "metadata": {},
   "outputs": [
    {
     "data": {
      "text/plain": [
       "112.07915"
      ]
     },
     "execution_count": 28,
     "metadata": {},
     "output_type": "execute_result"
    }
   ],
   "source": [
    "titanic_df.Fare.quantile(0.95)"
   ]
  },
  {
   "cell_type": "markdown",
   "metadata": {},
   "source": [
    "Процентиль 95 равен 112 ед. Таким образом, чтобы избежать выброс, можно отобрать наблюдения до порога 112 ед. по колонке Fare, или объединить значения в группы."
   ]
  },
  {
   "cell_type": "code",
   "execution_count": 29,
   "metadata": {
    "execution": {
     "iopub.execute_input": "2022-09-20T07:50:07.795117Z",
     "iopub.status.busy": "2022-09-20T07:50:07.794784Z",
     "iopub.status.idle": "2022-09-20T07:50:07.966469Z",
     "shell.execute_reply": "2022-09-20T07:50:07.965521Z",
     "shell.execute_reply.started": "2022-09-20T07:50:07.795092Z"
    }
   },
   "outputs": [
    {
     "data": {
      "text/plain": [
       "<AxesSubplot:xlabel='%'>"
      ]
     },
     "execution_count": 29,
     "metadata": {},
     "output_type": "execute_result"
    },
    {
     "data": {
      "image/png": "[encoded data removed]",
      "text/plain": [
       "<Figure size 800x500 with 1 Axes>"
      ]
     },
     "metadata": {},
     "output_type": "display_data"
    }
   ],
   "source": [
    "titanic_df['Fare_group'] = pd.qcut(titanic_df.Fare, 3, duplicates='drop')\n",
    "titanic_df.pivot_table(values='Survived', columns='Fare_group', aggfunc=\"mean\", \n",
    "                       dropna=False, fill_value=0).plot(kind='bar', xlabel='%', figsize=(8,5),rot=360)"
   ]
  },
  {
   "cell_type": "markdown",
   "metadata": {},
   "source": [
    "Чем выше стоимость билета пасажира, тем чаще в среднем он спасался."
   ]
  },
  {
   "cell_type": "markdown",
   "metadata": {},
   "source": [
    "Закодируем значения в колонке Fare_group."
   ]
  },
  {
   "cell_type": "code",
   "execution_count": 30,
   "metadata": {},
   "outputs": [],
   "source": [
    "titanic_df['Fare_group'] = titanic_df.Fare.map(lambda x: 0 if x < 8.662 else (1 if x <= 26 else 3))"
   ]
  },
  {
   "cell_type": "markdown",
   "metadata": {},
   "source": [
    "### Место (порт) посадки на борт (Embarked):"
   ]
  },
  {
   "cell_type": "code",
   "execution_count": 31,
   "metadata": {},
   "outputs": [
    {
     "data": {
      "text/plain": [
       "0.002244668911335578"
      ]
     },
     "execution_count": 31,
     "metadata": {},
     "output_type": "execute_result"
    }
   ],
   "source": [
    "titanic_df.Embarked.isna().mean()"
   ]
  },
  {
   "cell_type": "code",
   "execution_count": 32,
   "metadata": {},
   "outputs": [
    {
     "data": {
      "text/plain": [
       "S      644\n",
       "C      168\n",
       "Q       77\n",
       "NaN      2\n",
       "Name: Embarked, dtype: int64"
      ]
     },
     "execution_count": 32,
     "metadata": {},
     "output_type": "execute_result"
    }
   ],
   "source": [
    "titanic_df.Embarked.value_counts(dropna=False)"
   ]
  },
  {
   "cell_type": "markdown",
   "metadata": {},
   "source": [
    "Заменим пропущенные значения на самое часто встречающееся - S."
   ]
  },
  {
   "cell_type": "code",
   "execution_count": 33,
   "metadata": {},
   "outputs": [],
   "source": [
    "titanic_df.fillna({'Embarked':titanic_df.groupby('Embarked').count()['PassengerId'].idxmax()}, inplace=True)"
   ]
  },
  {
   "cell_type": "code",
   "execution_count": 34,
   "metadata": {
    "execution": {
     "iopub.execute_input": "2022-09-20T08:25:55.512947Z",
     "iopub.status.busy": "2022-09-20T08:25:55.511419Z",
     "iopub.status.idle": "2022-09-20T08:25:55.685763Z",
     "shell.execute_reply": "2022-09-20T08:25:55.684479Z",
     "shell.execute_reply.started": "2022-09-20T08:25:55.512889Z"
    }
   },
   "outputs": [
    {
     "data": {
      "text/plain": [
       "<AxesSubplot:xlabel='%'>"
      ]
     },
     "execution_count": 34,
     "metadata": {},
     "output_type": "execute_result"
    },
    {
     "data": {
      "image/png": "[encoded data removed]",
      "text/plain": [
       "<Figure size 800x500 with 1 Axes>"
      ]
     },
     "metadata": {},
     "output_type": "display_data"
    }
   ],
   "source": [
    "titanic_df.pivot_table(values='Survived', columns='Embarked', \n",
    "                       aggfunc=\"mean\", dropna=False, fill_value=0).plot(kind='bar', xlabel='%', figsize=(8,5), rot=360)\n"
   ]
  },
  {
   "cell_type": "markdown",
   "metadata": {},
   "source": [
    "Имеется зависимсть между шансом спастись и портом посадки на борт. \n"
   ]
  },
  {
   "cell_type": "markdown",
   "metadata": {},
   "source": [
    "Закодируем категориальные переменные в колонке Embarked."
   ]
  },
  {
   "cell_type": "code",
   "execution_count": 35,
   "metadata": {},
   "outputs": [],
   "source": [
    "dic_Embarked = {key:value for key, value in zip(titanic_df.Embarked.unique(), range(len(titanic_df.Embarked.unique()) ))}\n",
    "titanic_df.replace({'Embarked': dic_Embarked}, inplace=True)"
   ]
  },
  {
   "cell_type": "raw",
   "metadata": {},
   "source": []
  },
  {
   "cell_type": "markdown",
   "metadata": {},
   "source": [
    "### Проверим корреляцию обработанных данных"
   ]
  },
  {
   "cell_type": "code",
   "execution_count": 36,
   "metadata": {},
   "outputs": [],
   "source": [
    "titanic_df2 = titanic_df[['Survived', 'Pclass', 'Sex', 'Age', 'SibSp_group', 'Parch_group', \n",
    "                          'Fare_group', 'Embarked', 'Cabin_']].copy()"
   ]
  },
  {
   "cell_type": "code",
   "execution_count": 37,
   "metadata": {},
   "outputs": [
    {
     "data": {
      "text/html": [
       "<div>\n",
       "<style scoped>\n",
       "    .dataframe tbody tr th:only-of-type {\n",
       "        vertical-align: middle;\n",
       "    }\n",
       "\n",
       "    .dataframe tbody tr th {\n",
       "        vertical-align: top;\n",
       "    }\n",
       "\n",
       "    .dataframe thead th {\n",
       "        text-align: right;\n",
       "    }\n",
       "</style>\n",
       "<table border=\"1\" class=\"dataframe\">\n",
       "  <thead>\n",
       "    <tr style=\"text-align: right;\">\n",
       "      <th></th>\n",
       "      <th>Survived</th>\n",
       "      <th>Pclass</th>\n",
       "      <th>Sex</th>\n",
       "      <th>Age</th>\n",
       "      <th>SibSp_group</th>\n",
       "      <th>Parch_group</th>\n",
       "      <th>Fare_group</th>\n",
       "      <th>Embarked</th>\n",
       "      <th>Cabin_</th>\n",
       "    </tr>\n",
       "  </thead>\n",
       "  <tbody>\n",
       "    <tr>\n",
       "      <th>Survived</th>\n",
       "      <td>1.000000</td>\n",
       "      <td>-0.338481</td>\n",
       "      <td>-0.543351</td>\n",
       "      <td>-0.070657</td>\n",
       "      <td>0.054203</td>\n",
       "      <td>0.121076</td>\n",
       "      <td>0.290990</td>\n",
       "      <td>0.106811</td>\n",
       "      <td>0.270310</td>\n",
       "    </tr>\n",
       "    <tr>\n",
       "      <th>Pclass</th>\n",
       "      <td>-0.338481</td>\n",
       "      <td>1.000000</td>\n",
       "      <td>0.131900</td>\n",
       "      <td>-0.329727</td>\n",
       "      <td>-0.000390</td>\n",
       "      <td>-0.010256</td>\n",
       "      <td>-0.726012</td>\n",
       "      <td>0.045702</td>\n",
       "      <td>-0.562800</td>\n",
       "    </tr>\n",
       "    <tr>\n",
       "      <th>Sex</th>\n",
       "      <td>-0.543351</td>\n",
       "      <td>0.131900</td>\n",
       "      <td>1.000000</td>\n",
       "      <td>0.084660</td>\n",
       "      <td>-0.177623</td>\n",
       "      <td>-0.253248</td>\n",
       "      <td>-0.200369</td>\n",
       "      <td>-0.116569</td>\n",
       "      <td>-0.114229</td>\n",
       "    </tr>\n",
       "    <tr>\n",
       "      <th>Age</th>\n",
       "      <td>-0.070657</td>\n",
       "      <td>-0.329727</td>\n",
       "      <td>0.084660</td>\n",
       "      <td>1.000000</td>\n",
       "      <td>-0.227170</td>\n",
       "      <td>-0.262109</td>\n",
       "      <td>0.114108</td>\n",
       "      <td>0.010407</td>\n",
       "      <td>0.165826</td>\n",
       "    </tr>\n",
       "    <tr>\n",
       "      <th>SibSp_group</th>\n",
       "      <td>0.054203</td>\n",
       "      <td>-0.000390</td>\n",
       "      <td>-0.177623</td>\n",
       "      <td>-0.227170</td>\n",
       "      <td>1.000000</td>\n",
       "      <td>0.450499</td>\n",
       "      <td>0.373618</td>\n",
       "      <td>-0.038850</td>\n",
       "      <td>-0.011344</td>\n",
       "    </tr>\n",
       "    <tr>\n",
       "      <th>Parch_group</th>\n",
       "      <td>0.121076</td>\n",
       "      <td>-0.010256</td>\n",
       "      <td>-0.253248</td>\n",
       "      <td>-0.262109</td>\n",
       "      <td>0.450499</td>\n",
       "      <td>1.000000</td>\n",
       "      <td>0.385410</td>\n",
       "      <td>-0.083436</td>\n",
       "      <td>0.067265</td>\n",
       "    </tr>\n",
       "    <tr>\n",
       "      <th>Fare_group</th>\n",
       "      <td>0.290990</td>\n",
       "      <td>-0.726012</td>\n",
       "      <td>-0.200369</td>\n",
       "      <td>0.114108</td>\n",
       "      <td>0.373618</td>\n",
       "      <td>0.385410</td>\n",
       "      <td>1.000000</td>\n",
       "      <td>-0.050598</td>\n",
       "      <td>0.417791</td>\n",
       "    </tr>\n",
       "    <tr>\n",
       "      <th>Embarked</th>\n",
       "      <td>0.106811</td>\n",
       "      <td>0.045702</td>\n",
       "      <td>-0.116569</td>\n",
       "      <td>0.010407</td>\n",
       "      <td>-0.038850</td>\n",
       "      <td>-0.083436</td>\n",
       "      <td>-0.050598</td>\n",
       "      <td>1.000000</td>\n",
       "      <td>0.017250</td>\n",
       "    </tr>\n",
       "    <tr>\n",
       "      <th>Cabin_</th>\n",
       "      <td>0.270310</td>\n",
       "      <td>-0.562800</td>\n",
       "      <td>-0.114229</td>\n",
       "      <td>0.165826</td>\n",
       "      <td>-0.011344</td>\n",
       "      <td>0.067265</td>\n",
       "      <td>0.417791</td>\n",
       "      <td>0.017250</td>\n",
       "      <td>1.000000</td>\n",
       "    </tr>\n",
       "  </tbody>\n",
       "</table>\n",
       "</div>"
      ],
      "text/plain": [
       "             Survived    Pclass       Sex       Age  SibSp_group  Parch_group  \\\n",
       "Survived     1.000000 -0.338481 -0.543351 -0.070657     0.054203     0.121076   \n",
       "Pclass      -0.338481  1.000000  0.131900 -0.329727    -0.000390    -0.010256   \n",
       "Sex         -0.543351  0.131900  1.000000  0.084660    -0.177623    -0.253248   \n",
       "Age         -0.070657 -0.329727  0.084660  1.000000    -0.227170    -0.262109   \n",
       "SibSp_group  0.054203 -0.000390 -0.177623 -0.227170     1.000000     0.450499   \n",
       "Parch_group  0.121076 -0.010256 -0.253248 -0.262109     0.450499     1.000000   \n",
       "Fare_group   0.290990 -0.726012 -0.200369  0.114108     0.373618     0.385410   \n",
       "Embarked     0.106811  0.045702 -0.116569  0.010407    -0.038850    -0.083436   \n",
       "Cabin_       0.270310 -0.562800 -0.114229  0.165826    -0.011344     0.067265   \n",
       "\n",
       "             Fare_group  Embarked    Cabin_  \n",
       "Survived       0.290990  0.106811  0.270310  \n",
       "Pclass        -0.726012  0.045702 -0.562800  \n",
       "Sex           -0.200369 -0.116569 -0.114229  \n",
       "Age            0.114108  0.010407  0.165826  \n",
       "SibSp_group    0.373618 -0.038850 -0.011344  \n",
       "Parch_group    0.385410 -0.083436  0.067265  \n",
       "Fare_group     1.000000 -0.050598  0.417791  \n",
       "Embarked      -0.050598  1.000000  0.017250  \n",
       "Cabin_         0.417791  0.017250  1.000000  "
      ]
     },
     "execution_count": 37,
     "metadata": {},
     "output_type": "execute_result"
    }
   ],
   "source": [
    "titanic_df2.corr()"
   ]
  },
  {
   "cell_type": "code",
   "execution_count": 38,
   "metadata": {},
   "outputs": [
    {
     "data": {
      "text/plain": [
       "<AxesSubplot:>"
      ]
     },
     "execution_count": 38,
     "metadata": {},
     "output_type": "execute_result"
    },
    {
     "data": {
      "image/png": "[encoded data removed]",
      "text/plain": [
       "<Figure size 640x480 with 2 Axes>"
      ]
     },
     "metadata": {},
     "output_type": "display_data"
    }
   ],
   "source": [
    "sns.heatmap(titanic_df2.corr())"
   ]
  },
  {
   "cell_type": "markdown",
   "metadata": {},
   "source": [
    "Корреляционная матрица показывает, что наибольшее влияние на шанс выжить оказывают такие признаки как пол пассажира и класс билета Pclass. Между признаками Pclass и Cabin_,  Pclass и Fare_group имеется значительная корреляция. Удалим Cabin_ и Fare_group из модели."
   ]
  },
  {
   "cell_type": "code",
   "execution_count": null,
   "metadata": {},
   "outputs": [],
   "source": []
  },
  {
   "cell_type": "markdown",
   "metadata": {},
   "source": [
    "Создадим итоговый набор данных."
   ]
  },
  {
   "cell_type": "code",
   "execution_count": 39,
   "metadata": {
    "execution": {
     "iopub.execute_input": "2022-09-20T08:26:23.260771Z",
     "iopub.status.busy": "2022-09-20T08:26:23.260306Z",
     "iopub.status.idle": "2022-09-20T08:26:23.274816Z",
     "shell.execute_reply": "2022-09-20T08:26:23.273445Z",
     "shell.execute_reply.started": "2022-09-20T08:26:23.260737Z"
    },
    "jupyter": {
     "outputs_hidden": true
    }
   },
   "outputs": [
    {
     "data": {
      "text/plain": [
       "Pclass         0.0\n",
       "Sex            0.0\n",
       "Age            0.0\n",
       "SibSp_group    0.0\n",
       "Parch_group    0.0\n",
       "Embarked       0.0\n",
       "dtype: float64"
      ]
     },
     "execution_count": 39,
     "metadata": {},
     "output_type": "execute_result"
    }
   ],
   "source": [
    "X = titanic_df2[['Pclass', 'Sex', 'Age', 'SibSp_group', 'Parch_group', 'Embarked']].copy()\n",
    "X.isna().mean()"
   ]
  },
  {
   "cell_type": "code",
   "execution_count": 40,
   "metadata": {
    "execution": {
     "iopub.execute_input": "2022-09-20T11:27:53.494733Z",
     "iopub.status.busy": "2022-09-20T11:27:53.494355Z",
     "iopub.status.idle": "2022-09-20T11:27:53.499599Z",
     "shell.execute_reply": "2022-09-20T11:27:53.498396Z",
     "shell.execute_reply.started": "2022-09-20T11:27:53.494679Z"
    }
   },
   "outputs": [],
   "source": [
    "Y = titanic_df2.Survived"
   ]
  },
  {
   "cell_type": "markdown",
   "metadata": {},
   "source": [
    "Создадим наборы переменных для тренировки моделей и для тестирования в соотношении 3 к 1."
   ]
  },
  {
   "cell_type": "code",
   "execution_count": 41,
   "metadata": {
    "execution": {
     "iopub.execute_input": "2022-09-20T11:28:00.769927Z",
     "iopub.status.busy": "2022-09-20T11:28:00.769473Z",
     "iopub.status.idle": "2022-09-20T11:28:00.778505Z",
     "shell.execute_reply": "2022-09-20T11:28:00.777439Z",
     "shell.execute_reply.started": "2022-09-20T11:28:00.769888Z"
    }
   },
   "outputs": [],
   "source": [
    "X_train, X_test, Y_train, Y_test = train_test_split(X,Y, test_size=0.25, random_state=5)"
   ]
  },
  {
   "cell_type": "markdown",
   "metadata": {},
   "source": [
    "Сделаем предобработку данных X_real на которых будем делать прогнозы по построенным моделям."
   ]
  },
  {
   "cell_type": "code",
   "execution_count": 42,
   "metadata": {
    "scrolled": true
   },
   "outputs": [
    {
     "data": {
      "text/plain": [
       "PassengerId    0.000000\n",
       "Pclass         0.000000\n",
       "Name           0.000000\n",
       "Sex            0.000000\n",
       "Age            0.205742\n",
       "SibSp          0.000000\n",
       "Parch          0.000000\n",
       "Ticket         0.000000\n",
       "Fare           0.002392\n",
       "Cabin          0.782297\n",
       "Embarked       0.000000\n",
       "dtype: float64"
      ]
     },
     "execution_count": 42,
     "metadata": {},
     "output_type": "execute_result"
    }
   ],
   "source": [
    "X_real.isna().mean()"
   ]
  },
  {
   "cell_type": "code",
   "execution_count": 43,
   "metadata": {},
   "outputs": [],
   "source": [
    "le = LabelEncoder()"
   ]
  },
  {
   "cell_type": "code",
   "execution_count": 44,
   "metadata": {},
   "outputs": [
    {
     "data": {
      "text/plain": [
       "LabelEncoder()"
      ]
     },
     "execution_count": 44,
     "metadata": {},
     "output_type": "execute_result"
    }
   ],
   "source": [
    "le.fit(X_real.Sex)"
   ]
  },
  {
   "cell_type": "code",
   "execution_count": 45,
   "metadata": {},
   "outputs": [
    {
     "data": {
      "text/plain": [
       "array(['female', 'male'], dtype=object)"
      ]
     },
     "execution_count": 45,
     "metadata": {},
     "output_type": "execute_result"
    }
   ],
   "source": [
    "le.classes_"
   ]
  },
  {
   "cell_type": "code",
   "execution_count": 46,
   "metadata": {},
   "outputs": [],
   "source": [
    "X_real['Sex'] = le.transform(X_real.Sex)"
   ]
  },
  {
   "cell_type": "code",
   "execution_count": 47,
   "metadata": {},
   "outputs": [],
   "source": [
    "X_real['Parch_group'] = X_real.Parch.map(lambda x: 1 if x == 1 else (2 if x > 1 else 0))"
   ]
  },
  {
   "cell_type": "code",
   "execution_count": 48,
   "metadata": {},
   "outputs": [],
   "source": [
    "X_real['SibSp_group'] = X_real.SibSp.map(lambda x: 1 if x == 1 else (2 if x > 1 else 0))"
   ]
  },
  {
   "cell_type": "code",
   "execution_count": 49,
   "metadata": {},
   "outputs": [],
   "source": [
    "X_real.fillna({'Age': X_real.Age.mean().round(0)}, inplace=True)"
   ]
  },
  {
   "cell_type": "code",
   "execution_count": 50,
   "metadata": {},
   "outputs": [],
   "source": [
    "X_real.fillna({'Embarked':X_real.groupby('Embarked').count()['PassengerId'].idxmax()}, inplace=True)"
   ]
  },
  {
   "cell_type": "code",
   "execution_count": 51,
   "metadata": {},
   "outputs": [],
   "source": [
    "dic_Embarked_x = {key:value for key, value in zip(X_real.Embarked.unique(), range(len(X_real.Embarked.unique()) ))}\n",
    "X_real.replace({'Embarked': dic_Embarked_x}, inplace=True)"
   ]
  },
  {
   "cell_type": "code",
   "execution_count": 52,
   "metadata": {},
   "outputs": [],
   "source": [
    "X_real = X_real[['Pclass', 'Sex', 'Age', 'SibSp_group', 'Parch_group', 'Embarked']]"
   ]
  },
  {
   "cell_type": "code",
   "execution_count": 53,
   "metadata": {
    "scrolled": false
   },
   "outputs": [
    {
     "data": {
      "text/html": [
       "<div>\n",
       "<style scoped>\n",
       "    .dataframe tbody tr th:only-of-type {\n",
       "        vertical-align: middle;\n",
       "    }\n",
       "\n",
       "    .dataframe tbody tr th {\n",
       "        vertical-align: top;\n",
       "    }\n",
       "\n",
       "    .dataframe thead th {\n",
       "        text-align: right;\n",
       "    }\n",
       "</style>\n",
       "<table border=\"1\" class=\"dataframe\">\n",
       "  <thead>\n",
       "    <tr style=\"text-align: right;\">\n",
       "      <th></th>\n",
       "      <th>Pclass</th>\n",
       "      <th>Sex</th>\n",
       "      <th>Age</th>\n",
       "      <th>SibSp_group</th>\n",
       "      <th>Parch_group</th>\n",
       "      <th>Embarked</th>\n",
       "    </tr>\n",
       "  </thead>\n",
       "  <tbody>\n",
       "    <tr>\n",
       "      <th>0</th>\n",
       "      <td>3</td>\n",
       "      <td>1</td>\n",
       "      <td>34.5</td>\n",
       "      <td>0</td>\n",
       "      <td>0</td>\n",
       "      <td>0</td>\n",
       "    </tr>\n",
       "    <tr>\n",
       "      <th>1</th>\n",
       "      <td>3</td>\n",
       "      <td>0</td>\n",
       "      <td>47.0</td>\n",
       "      <td>1</td>\n",
       "      <td>0</td>\n",
       "      <td>1</td>\n",
       "    </tr>\n",
       "    <tr>\n",
       "      <th>2</th>\n",
       "      <td>2</td>\n",
       "      <td>1</td>\n",
       "      <td>62.0</td>\n",
       "      <td>0</td>\n",
       "      <td>0</td>\n",
       "      <td>0</td>\n",
       "    </tr>\n",
       "    <tr>\n",
       "      <th>3</th>\n",
       "      <td>3</td>\n",
       "      <td>1</td>\n",
       "      <td>27.0</td>\n",
       "      <td>0</td>\n",
       "      <td>0</td>\n",
       "      <td>1</td>\n",
       "    </tr>\n",
       "    <tr>\n",
       "      <th>4</th>\n",
       "      <td>3</td>\n",
       "      <td>0</td>\n",
       "      <td>22.0</td>\n",
       "      <td>1</td>\n",
       "      <td>1</td>\n",
       "      <td>1</td>\n",
       "    </tr>\n",
       "    <tr>\n",
       "      <th>...</th>\n",
       "      <td>...</td>\n",
       "      <td>...</td>\n",
       "      <td>...</td>\n",
       "      <td>...</td>\n",
       "      <td>...</td>\n",
       "      <td>...</td>\n",
       "    </tr>\n",
       "    <tr>\n",
       "      <th>413</th>\n",
       "      <td>3</td>\n",
       "      <td>1</td>\n",
       "      <td>30.0</td>\n",
       "      <td>0</td>\n",
       "      <td>0</td>\n",
       "      <td>1</td>\n",
       "    </tr>\n",
       "    <tr>\n",
       "      <th>414</th>\n",
       "      <td>1</td>\n",
       "      <td>0</td>\n",
       "      <td>39.0</td>\n",
       "      <td>0</td>\n",
       "      <td>0</td>\n",
       "      <td>2</td>\n",
       "    </tr>\n",
       "    <tr>\n",
       "      <th>415</th>\n",
       "      <td>3</td>\n",
       "      <td>1</td>\n",
       "      <td>38.5</td>\n",
       "      <td>0</td>\n",
       "      <td>0</td>\n",
       "      <td>1</td>\n",
       "    </tr>\n",
       "    <tr>\n",
       "      <th>416</th>\n",
       "      <td>3</td>\n",
       "      <td>1</td>\n",
       "      <td>30.0</td>\n",
       "      <td>0</td>\n",
       "      <td>0</td>\n",
       "      <td>1</td>\n",
       "    </tr>\n",
       "    <tr>\n",
       "      <th>417</th>\n",
       "      <td>3</td>\n",
       "      <td>1</td>\n",
       "      <td>30.0</td>\n",
       "      <td>1</td>\n",
       "      <td>1</td>\n",
       "      <td>2</td>\n",
       "    </tr>\n",
       "  </tbody>\n",
       "</table>\n",
       "<p>418 rows × 6 columns</p>\n",
       "</div>"
      ],
      "text/plain": [
       "     Pclass  Sex   Age  SibSp_group  Parch_group  Embarked\n",
       "0         3    1  34.5            0            0         0\n",
       "1         3    0  47.0            1            0         1\n",
       "2         2    1  62.0            0            0         0\n",
       "3         3    1  27.0            0            0         1\n",
       "4         3    0  22.0            1            1         1\n",
       "..      ...  ...   ...          ...          ...       ...\n",
       "413       3    1  30.0            0            0         1\n",
       "414       1    0  39.0            0            0         2\n",
       "415       3    1  38.5            0            0         1\n",
       "416       3    1  30.0            0            0         1\n",
       "417       3    1  30.0            1            1         2\n",
       "\n",
       "[418 rows x 6 columns]"
      ]
     },
     "execution_count": 53,
     "metadata": {},
     "output_type": "execute_result"
    }
   ],
   "source": [
    "X_real"
   ]
  },
  {
   "cell_type": "markdown",
   "metadata": {},
   "source": [
    "##  2. Построение моделей и прогнозирование"
   ]
  },
  {
   "cell_type": "markdown",
   "metadata": {},
   "source": [
    "### Random Forest"
   ]
  },
  {
   "cell_type": "code",
   "execution_count": 54,
   "metadata": {
    "execution": {
     "iopub.execute_input": "2022-09-20T11:28:03.789008Z",
     "iopub.status.busy": "2022-09-20T11:28:03.788683Z",
     "iopub.status.idle": "2022-09-20T11:28:03.793547Z",
     "shell.execute_reply": "2022-09-20T11:28:03.792177Z",
     "shell.execute_reply.started": "2022-09-20T11:28:03.788983Z"
    }
   },
   "outputs": [],
   "source": [
    "rnd_forest = RandomForestClassifier(random_state=42)"
   ]
  },
  {
   "cell_type": "code",
   "execution_count": 55,
   "metadata": {
    "execution": {
     "iopub.execute_input": "2022-09-20T11:49:37.852715Z",
     "iopub.status.busy": "2022-09-20T11:49:37.852185Z",
     "iopub.status.idle": "2022-09-20T11:49:37.857293Z",
     "shell.execute_reply": "2022-09-20T11:49:37.856631Z",
     "shell.execute_reply.started": "2022-09-20T11:49:37.852669Z"
    }
   },
   "outputs": [],
   "source": [
    "params = {'n_estimators': [50,75], 'max_depth': range(3, 8), 'min_samples_split': range(2,20), 'min_samples_leaf': range(1,10)}"
   ]
  },
  {
   "cell_type": "code",
   "execution_count": 56,
   "metadata": {
    "execution": {
     "iopub.execute_input": "2022-09-20T11:49:39.815620Z",
     "iopub.status.busy": "2022-09-20T11:49:39.815110Z",
     "iopub.status.idle": "2022-09-20T11:49:39.819231Z",
     "shell.execute_reply": "2022-09-20T11:49:39.818336Z",
     "shell.execute_reply.started": "2022-09-20T11:49:39.815595Z"
    }
   },
   "outputs": [],
   "source": [
    "grid_search = GridSearchCV(rnd_forest, params, cv=5)"
   ]
  },
  {
   "cell_type": "code",
   "execution_count": 57,
   "metadata": {
    "execution": {
     "iopub.execute_input": "2022-09-20T11:49:42.524764Z",
     "iopub.status.busy": "2022-09-20T11:49:42.523894Z",
     "iopub.status.idle": "2022-09-20T12:16:11.505663Z",
     "shell.execute_reply": "2022-09-20T12:16:11.504114Z",
     "shell.execute_reply.started": "2022-09-20T11:49:42.524720Z"
    }
   },
   "outputs": [
    {
     "data": {
      "text/plain": [
       "GridSearchCV(cv=5, estimator=RandomForestClassifier(random_state=42),\n",
       "             param_grid={'max_depth': range(3, 8),\n",
       "                         'min_samples_leaf': range(1, 10),\n",
       "                         'min_samples_split': range(2, 20),\n",
       "                         'n_estimators': [50, 75]})"
      ]
     },
     "execution_count": 57,
     "metadata": {},
     "output_type": "execute_result"
    }
   ],
   "source": [
    "grid_search.fit(X_train, Y_train)"
   ]
  },
  {
   "cell_type": "code",
   "execution_count": 58,
   "metadata": {
    "execution": {
     "iopub.execute_input": "2022-09-20T12:16:30.374661Z",
     "iopub.status.busy": "2022-09-20T12:16:30.373519Z",
     "iopub.status.idle": "2022-09-20T12:16:30.380407Z",
     "shell.execute_reply": "2022-09-20T12:16:30.379735Z",
     "shell.execute_reply.started": "2022-09-20T12:16:30.374608Z"
    }
   },
   "outputs": [
    {
     "data": {
      "text/plain": [
       "{'max_depth': 5,\n",
       " 'min_samples_leaf': 1,\n",
       " 'min_samples_split': 13,\n",
       " 'n_estimators': 50}"
      ]
     },
     "execution_count": 58,
     "metadata": {},
     "output_type": "execute_result"
    }
   ],
   "source": [
    "grid_search.best_params_"
   ]
  },
  {
   "cell_type": "code",
   "execution_count": 59,
   "metadata": {
    "execution": {
     "iopub.execute_input": "2022-09-20T12:16:34.974209Z",
     "iopub.status.busy": "2022-09-20T12:16:34.973863Z",
     "iopub.status.idle": "2022-09-20T12:16:34.978425Z",
     "shell.execute_reply": "2022-09-20T12:16:34.977639Z",
     "shell.execute_reply.started": "2022-09-20T12:16:34.974184Z"
    }
   },
   "outputs": [],
   "source": [
    "rnd_forest_est = grid_search.best_estimator_"
   ]
  },
  {
   "cell_type": "code",
   "execution_count": 60,
   "metadata": {
    "execution": {
     "iopub.execute_input": "2022-09-20T11:05:18.316055Z",
     "iopub.status.busy": "2022-09-20T11:05:18.315631Z",
     "iopub.status.idle": "2022-09-20T11:05:18.512837Z",
     "shell.execute_reply": "2022-09-20T11:05:18.511854Z",
     "shell.execute_reply.started": "2022-09-20T11:05:18.316027Z"
    }
   },
   "outputs": [
    {
     "data": {
      "text/plain": [
       "<AxesSubplot:>"
      ]
     },
     "execution_count": 60,
     "metadata": {},
     "output_type": "execute_result"
    },
    {
     "data": {
      "image/png": "[encoded data removed]",
      "text/plain": [
       "<Figure size 800x600 with 1 Axes>"
      ]
     },
     "metadata": {},
     "output_type": "display_data"
    }
   ],
   "source": [
    "feature_importances = rnd_forest_est.feature_importances_ \n",
    "pd.DataFrame({'feature_importances': feature_importances}, index=X_train.columns).plot(kind='barh', figsize=(8, 6))\n"
   ]
  },
  {
   "cell_type": "markdown",
   "metadata": {},
   "source": [
    "Наибольший вклад в снижении энтропии в модели Random Forest внесли такие признаки как Пол, класс билета и возраст. "
   ]
  },
  {
   "cell_type": "markdown",
   "metadata": {},
   "source": [
    "Сделаем прогноз по тестовым данным и оценим качество модели."
   ]
  },
  {
   "cell_type": "code",
   "execution_count": 61,
   "metadata": {
    "execution": {
     "iopub.execute_input": "2022-09-20T12:16:41.806935Z",
     "iopub.status.busy": "2022-09-20T12:16:41.806571Z",
     "iopub.status.idle": "2022-09-20T12:16:41.823107Z",
     "shell.execute_reply": "2022-09-20T12:16:41.821555Z",
     "shell.execute_reply.started": "2022-09-20T12:16:41.806909Z"
    }
   },
   "outputs": [],
   "source": [
    "Y_pred = rnd_forest_est.predict(X_test)"
   ]
  },
  {
   "cell_type": "code",
   "execution_count": 62,
   "metadata": {
    "execution": {
     "iopub.execute_input": "2022-09-20T12:16:43.855226Z",
     "iopub.status.busy": "2022-09-20T12:16:43.854671Z",
     "iopub.status.idle": "2022-09-20T12:16:43.870105Z",
     "shell.execute_reply": "2022-09-20T12:16:43.869047Z",
     "shell.execute_reply.started": "2022-09-20T12:16:43.855175Z"
    }
   },
   "outputs": [
    {
     "data": {
      "text/plain": [
       "0.8385650224215246"
      ]
     },
     "execution_count": 62,
     "metadata": {},
     "output_type": "execute_result"
    }
   ],
   "source": [
    "rnd_forest_est.score(X_test, Y_test)"
   ]
  },
  {
   "cell_type": "markdown",
   "metadata": {},
   "source": [
    "Согласно общей точности модели (accuracy = (TP + TN)/(All Cases)) в 8 из 10 случаев она верно классифицирует наблюдение. Для умеренно сбалансированных данных показатель находится на приемлемом урове."
   ]
  },
  {
   "cell_type": "code",
   "execution_count": 63,
   "metadata": {
    "execution": {
     "iopub.execute_input": "2022-09-20T12:16:46.252874Z",
     "iopub.status.busy": "2022-09-20T12:16:46.252541Z",
     "iopub.status.idle": "2022-09-20T12:16:46.263991Z",
     "shell.execute_reply": "2022-09-20T12:16:46.262749Z",
     "shell.execute_reply.started": "2022-09-20T12:16:46.252849Z"
    }
   },
   "outputs": [
    {
     "data": {
      "text/plain": [
       "0.8615384615384616"
      ]
     },
     "execution_count": 63,
     "metadata": {},
     "output_type": "execute_result"
    }
   ],
   "source": [
    "sklearn.metrics.precision_score(Y_test, Y_pred)"
   ]
  },
  {
   "cell_type": "markdown",
   "metadata": {},
   "source": [
    "Точность модели (TP/(TP+FP)) при определении класса Positive составляет 88%. Т.е. с вероятность 88% пассажир, отмеченный моделью, как выживший, действительно окажется выжившим."
   ]
  },
  {
   "cell_type": "code",
   "execution_count": 64,
   "metadata": {
    "execution": {
     "iopub.execute_input": "2022-09-20T12:16:48.671431Z",
     "iopub.status.busy": "2022-09-20T12:16:48.671111Z",
     "iopub.status.idle": "2022-09-20T12:16:48.683266Z",
     "shell.execute_reply": "2022-09-20T12:16:48.681391Z",
     "shell.execute_reply.started": "2022-09-20T12:16:48.671408Z"
    }
   },
   "outputs": [
    {
     "data": {
      "text/plain": [
       "0.6746987951807228"
      ]
     },
     "execution_count": 64,
     "metadata": {},
     "output_type": "execute_result"
    }
   ],
   "source": [
    "sklearn.metrics.recall_score(Y_test, Y_pred)"
   ]
  },
  {
   "cell_type": "markdown",
   "metadata": {},
   "source": [
    "Не высокий показатель recall (TP/(TP+FN)) говорит о неполноте охвата моделью положительных наблюдений."
   ]
  },
  {
   "cell_type": "code",
   "execution_count": 65,
   "metadata": {
    "execution": {
     "iopub.execute_input": "2022-09-20T12:16:51.650573Z",
     "iopub.status.busy": "2022-09-20T12:16:51.650256Z",
     "iopub.status.idle": "2022-09-20T12:16:51.659066Z",
     "shell.execute_reply": "2022-09-20T12:16:51.657888Z",
     "shell.execute_reply.started": "2022-09-20T12:16:51.650547Z"
    }
   },
   "outputs": [
    {
     "data": {
      "text/plain": [
       "0.7567567567567568"
      ]
     },
     "execution_count": 65,
     "metadata": {},
     "output_type": "execute_result"
    }
   ],
   "source": [
    "sklearn.metrics.f1_score(Y_test, Y_pred)"
   ]
  },
  {
   "cell_type": "markdown",
   "metadata": {},
   "source": [
    "### Построим новую модель, оставив наиболее значимые признаки, увеличив диапазон параметров для поиска лучшей модели, а также увеличив число выборок для кроссвалидации"
   ]
  },
  {
   "cell_type": "code",
   "execution_count": 66,
   "metadata": {},
   "outputs": [],
   "source": [
    "X2 = X[['Age','Sex', 'Pclass']].copy()"
   ]
  },
  {
   "cell_type": "code",
   "execution_count": 67,
   "metadata": {},
   "outputs": [],
   "source": [
    "Y2 = Y.copy()"
   ]
  },
  {
   "cell_type": "code",
   "execution_count": 68,
   "metadata": {},
   "outputs": [],
   "source": [
    "X_train2, X_test2, Y_train2, Y_test2 = train_test_split(X2,Y2, test_size=0.25, random_state=7)"
   ]
  },
  {
   "cell_type": "code",
   "execution_count": 69,
   "metadata": {},
   "outputs": [],
   "source": [
    "rnd_forest2 = RandomForestClassifier(random_state=43)"
   ]
  },
  {
   "cell_type": "code",
   "execution_count": 70,
   "metadata": {},
   "outputs": [],
   "source": [
    "params2 = {'n_estimators': [50,75,100], 'max_depth': range(3, 12), 'min_samples_split': range(2,10), \n",
    "           'min_samples_leaf': range(1,5)}"
   ]
  },
  {
   "cell_type": "code",
   "execution_count": 71,
   "metadata": {},
   "outputs": [],
   "source": [
    "grid_search2 = GridSearchCV(rnd_forest2, params2, cv=10)"
   ]
  },
  {
   "cell_type": "code",
   "execution_count": 72,
   "metadata": {},
   "outputs": [
    {
     "data": {
      "text/plain": [
       "GridSearchCV(cv=10, estimator=RandomForestClassifier(random_state=43),\n",
       "             param_grid={'max_depth': range(3, 12),\n",
       "                         'min_samples_leaf': range(1, 5),\n",
       "                         'min_samples_split': range(2, 10),\n",
       "                         'n_estimators': [50, 75, 100]})"
      ]
     },
     "execution_count": 72,
     "metadata": {},
     "output_type": "execute_result"
    }
   ],
   "source": [
    "grid_search2.fit(X_train2, Y_train2)"
   ]
  },
  {
   "cell_type": "code",
   "execution_count": 73,
   "metadata": {},
   "outputs": [
    {
     "data": {
      "text/plain": [
       "{'max_depth': 5,\n",
       " 'min_samples_leaf': 1,\n",
       " 'min_samples_split': 8,\n",
       " 'n_estimators': 50}"
      ]
     },
     "execution_count": 73,
     "metadata": {},
     "output_type": "execute_result"
    }
   ],
   "source": [
    "grid_search2.best_params_\n"
   ]
  },
  {
   "cell_type": "code",
   "execution_count": 74,
   "metadata": {},
   "outputs": [],
   "source": [
    "rnd_forest_est2 = grid_search2.best_estimator_"
   ]
  },
  {
   "cell_type": "code",
   "execution_count": 75,
   "metadata": {},
   "outputs": [],
   "source": [
    "Y_pred2 = rnd_forest_est2.predict(X_test2)"
   ]
  },
  {
   "cell_type": "code",
   "execution_count": 76,
   "metadata": {},
   "outputs": [
    {
     "data": {
      "text/plain": [
       "0.757847533632287"
      ]
     },
     "execution_count": 76,
     "metadata": {},
     "output_type": "execute_result"
    }
   ],
   "source": [
    "rnd_forest_est2.score(X_test2, Y_test2)"
   ]
  },
  {
   "cell_type": "code",
   "execution_count": 77,
   "metadata": {},
   "outputs": [
    {
     "data": {
      "text/plain": [
       "0.7361111111111112"
      ]
     },
     "execution_count": 77,
     "metadata": {},
     "output_type": "execute_result"
    }
   ],
   "source": [
    "sklearn.metrics.precision_score(Y_test2, Y_pred2)"
   ]
  },
  {
   "cell_type": "code",
   "execution_count": 78,
   "metadata": {},
   "outputs": [
    {
     "data": {
      "text/plain": [
       "0.6022727272727273"
      ]
     },
     "execution_count": 78,
     "metadata": {},
     "output_type": "execute_result"
    }
   ],
   "source": [
    "sklearn.metrics.recall_score(Y_test2, Y_pred2)"
   ]
  },
  {
   "cell_type": "markdown",
   "metadata": {},
   "source": [
    "Уменьшение числа признаков для классификации не улучшило метрики качества модели. Для прогнозирования будем использовать первую модель rnd_forest_est."
   ]
  },
  {
   "cell_type": "code",
   "execution_count": 79,
   "metadata": {
    "execution": {
     "iopub.execute_input": "2022-09-20T12:16:55.066424Z",
     "iopub.status.busy": "2022-09-20T12:16:55.066100Z",
     "iopub.status.idle": "2022-09-20T12:16:55.247336Z",
     "shell.execute_reply": "2022-09-20T12:16:55.245945Z",
     "shell.execute_reply.started": "2022-09-20T12:16:55.066398Z"
    }
   },
   "outputs": [
    {
     "data": {
      "text/plain": [
       "<sklearn.metrics._plot.roc_curve.RocCurveDisplay at 0x21a52177c70>"
      ]
     },
     "execution_count": 79,
     "metadata": {},
     "output_type": "execute_result"
    },
    {
     "data": {
      "image/png": "[encoded data removed]",
      "text/plain": [
       "<Figure size 640x480 with 1 Axes>"
      ]
     },
     "metadata": {},
     "output_type": "display_data"
    }
   ],
   "source": [
    "sklearn.metrics.RocCurveDisplay.from_estimator(rnd_forest_est, X_test, Y_test)\n"
   ]
  },
  {
   "cell_type": "code",
   "execution_count": 80,
   "metadata": {},
   "outputs": [
    {
     "data": {
      "text/plain": [
       "<sklearn.metrics._plot.precision_recall_curve.PrecisionRecallDisplay at 0x21a521303d0>"
      ]
     },
     "execution_count": 80,
     "metadata": {},
     "output_type": "execute_result"
    },
    {
     "data": {
      "image/png": "[encoded data removed]",
      "text/plain": [
       "<Figure size 640x480 with 1 Axes>"
      ]
     },
     "metadata": {},
     "output_type": "display_data"
    }
   ],
   "source": [
    "sklearn.metrics.PrecisionRecallDisplay.from_estimator(rnd_forest_est, X_test, Y_test)"
   ]
  },
  {
   "cell_type": "markdown",
   "metadata": {},
   "source": [
    "По графику видно, что оптимальное соотношение recall и precision находится примерно на отметке 0.8 и 0.75 соответственно. Скорректируем прогнозы по модели, изменяя порог вероятности отнесения к классу Positive. Общая доля выживших составляет 38%. Можно предположить, что оптимальный порог вероятности отнесения к классу выживших находится в пределах 38 - 50%."
   ]
  },
  {
   "cell_type": "code",
   "execution_count": 111,
   "metadata": {
    "execution": {
     "iopub.execute_input": "2022-09-20T12:17:41.564880Z",
     "iopub.status.busy": "2022-09-20T12:17:41.564519Z",
     "iopub.status.idle": "2022-09-20T12:17:41.581703Z",
     "shell.execute_reply": "2022-09-20T12:17:41.580368Z",
     "shell.execute_reply.started": "2022-09-20T12:17:41.564853Z"
    }
   },
   "outputs": [],
   "source": [
    "y_pred_prob = rnd_forest_est.predict_proba(X_test)\n",
    "y_pred_mod = np.where(y_pred_prob[:,1] >0.35, 1,0) "
   ]
  },
  {
   "cell_type": "code",
   "execution_count": 112,
   "metadata": {
    "execution": {
     "iopub.execute_input": "2022-09-20T12:17:31.258093Z",
     "iopub.status.busy": "2022-09-20T12:17:31.257703Z",
     "iopub.status.idle": "2022-09-20T12:17:31.271083Z",
     "shell.execute_reply": "2022-09-20T12:17:31.269434Z",
     "shell.execute_reply.started": "2022-09-20T12:17:31.258059Z"
    }
   },
   "outputs": [
    {
     "data": {
      "text/plain": [
       "0.7784431137724551"
      ]
     },
     "execution_count": 112,
     "metadata": {},
     "output_type": "execute_result"
    }
   ],
   "source": [
    "sklearn.metrics.f1_score(Y_test, y_pred_mod)"
   ]
  },
  {
   "cell_type": "code",
   "execution_count": 113,
   "metadata": {
    "execution": {
     "iopub.execute_input": "2022-09-20T12:17:33.817791Z",
     "iopub.status.busy": "2022-09-20T12:17:33.817352Z",
     "iopub.status.idle": "2022-09-20T12:17:33.828522Z",
     "shell.execute_reply": "2022-09-20T12:17:33.827354Z",
     "shell.execute_reply.started": "2022-09-20T12:17:33.817764Z"
    }
   },
   "outputs": [
    {
     "data": {
      "text/plain": [
       "0.7831325301204819"
      ]
     },
     "execution_count": 113,
     "metadata": {},
     "output_type": "execute_result"
    }
   ],
   "source": [
    "sklearn.metrics.recall_score(Y_test, y_pred_mod)"
   ]
  },
  {
   "cell_type": "code",
   "execution_count": 114,
   "metadata": {
    "execution": {
     "iopub.execute_input": "2022-09-20T12:17:35.646180Z",
     "iopub.status.busy": "2022-09-20T12:17:35.645837Z",
     "iopub.status.idle": "2022-09-20T12:17:35.656783Z",
     "shell.execute_reply": "2022-09-20T12:17:35.655814Z",
     "shell.execute_reply.started": "2022-09-20T12:17:35.646155Z"
    }
   },
   "outputs": [
    {
     "data": {
      "text/plain": [
       "0.7738095238095238"
      ]
     },
     "execution_count": 114,
     "metadata": {},
     "output_type": "execute_result"
    }
   ],
   "source": [
    "sklearn.metrics.precision_score(Y_test, y_pred_mod)"
   ]
  },
  {
   "cell_type": "markdown",
   "metadata": {},
   "source": [
    "### Применим построенную модель random_forest к реальным данным"
   ]
  },
  {
   "cell_type": "code",
   "execution_count": 85,
   "metadata": {
    "execution": {
     "iopub.execute_input": "2022-09-20T12:23:51.420476Z",
     "iopub.status.busy": "2022-09-20T12:23:51.420165Z",
     "iopub.status.idle": "2022-09-20T12:23:51.437325Z",
     "shell.execute_reply": "2022-09-20T12:23:51.436069Z",
     "shell.execute_reply.started": "2022-09-20T12:23:51.420452Z"
    }
   },
   "outputs": [],
   "source": [
    "result = rnd_forest_est.predict(X_real)"
   ]
  },
  {
   "cell_type": "code",
   "execution_count": 115,
   "metadata": {},
   "outputs": [],
   "source": [
    "result_prob = rnd_forest_est.predict_proba(X_real)\n",
    "result_mod = np.where(result_prob[:,1] >0.35, 1,0) "
   ]
  },
  {
   "cell_type": "code",
   "execution_count": 116,
   "metadata": {},
   "outputs": [
    {
     "data": {
      "text/plain": [
       "0.9114832535885168"
      ]
     },
     "execution_count": 116,
     "metadata": {},
     "output_type": "execute_result"
    }
   ],
   "source": [
    "rnd_forest_est.score(X_real, Y_real.Survived)"
   ]
  },
  {
   "cell_type": "markdown",
   "metadata": {},
   "source": [
    "В 9 из 10 случаях построенная модель правильно определила класс пассажиров."
   ]
  },
  {
   "cell_type": "code",
   "execution_count": 117,
   "metadata": {},
   "outputs": [
    {
     "data": {
      "text/plain": [
       "0.7587939698492462"
      ]
     },
     "execution_count": 117,
     "metadata": {},
     "output_type": "execute_result"
    }
   ],
   "source": [
    "sklearn.metrics.precision_score(Y_real.Survived, result_mod)"
   ]
  },
  {
   "cell_type": "markdown",
   "metadata": {},
   "source": [
    "В 76 % случаях пассажир, отмеченный моделью, как выживший, действительно оказался выжившим. Показатель не достаточно высокий, т.е. модель имеет большое число ложно-положительных срабатываний. "
   ]
  },
  {
   "cell_type": "code",
   "execution_count": 118,
   "metadata": {},
   "outputs": [
    {
     "data": {
      "text/plain": [
       "0.8026315789473685"
      ]
     },
     "execution_count": 118,
     "metadata": {},
     "output_type": "execute_result"
    }
   ],
   "source": [
    "sklearn.metrics.recall_score(Y_real.Survived, result)"
   ]
  },
  {
   "cell_type": "markdown",
   "metadata": {},
   "source": [
    "Модель верно выделила 80 из 100 реально выживших пассажиров."
   ]
  },
  {
   "cell_type": "code",
   "execution_count": 119,
   "metadata": {
    "execution": {
     "iopub.execute_input": "2022-09-20T12:48:14.914324Z",
     "iopub.status.busy": "2022-09-20T12:48:14.914007Z",
     "iopub.status.idle": "2022-09-20T12:48:14.920431Z",
     "shell.execute_reply": "2022-09-20T12:48:14.919458Z",
     "shell.execute_reply.started": "2022-09-20T12:48:14.914300Z"
    }
   },
   "outputs": [],
   "source": [
    "result_mod_df = pd.DataFrame({'PassengerId':Y_real.PassengerId, 'Survived':result_mod}).set_index('PassengerId')"
   ]
  },
  {
   "cell_type": "code",
   "execution_count": 120,
   "metadata": {
    "execution": {
     "iopub.execute_input": "2022-09-20T12:48:16.491502Z",
     "iopub.status.busy": "2022-09-20T12:48:16.491143Z",
     "iopub.status.idle": "2022-09-20T12:48:16.498864Z",
     "shell.execute_reply": "2022-09-20T12:48:16.497584Z",
     "shell.execute_reply.started": "2022-09-20T12:48:16.491472Z"
    }
   },
   "outputs": [],
   "source": [
    "result_mod_df.to_csv('titanic_predict_rnd_forest.csv')"
   ]
  },
  {
   "cell_type": "code",
   "execution_count": null,
   "metadata": {},
   "outputs": [],
   "source": []
  }
 ],
 "metadata": {
  "kernelspec": {
   "display_name": "Python 3 (ipykernel)",
   "language": "python",
   "name": "python3"
  },
  "language_info": {
   "codemirror_mode": {
    "name": "ipython",
    "version": 3
   },
   "file_extension": ".py",
   "mimetype": "text/x-python",
   "name": "python",
   "nbconvert_exporter": "python",
   "pygments_lexer": "ipython3",
   "version": "3.8.9"
  }
 },
 "nbformat": 4,
 "nbformat_minor": 4
}
